{
  "nbformat": 4,
  "nbformat_minor": 0,
  "metadata": {
    "colab": {
      "name": "Tugas Pekan 13_H051211003_Muh. Kemal Rydindo Irwan",
      "provenance": [],
      "collapsed_sections": [],
      "authorship_tag": "ABX9TyOJhf2J0bZL156amPWsvDUw",
      "include_colab_link": true
    },
    "kernelspec": {
      "name": "python3",
      "display_name": "Python 3"
    },
    "language_info": {
      "name": "python"
    }
  },
  "cells": [
    {
      "cell_type": "markdown",
      "metadata": {
        "id": "view-in-github",
        "colab_type": "text"
      },
      "source": [
        "<a href=\"https://colab.research.google.com/github/Kemalrydindo/Kemalrydindo/blob/main/Tugas_Pekan_13_H051211003_Muh_Kemal_Rydindo_Irwan.ipynb\" target=\"_parent\"><img src=\"https://colab.research.google.com/assets/colab-badge.svg\" alt=\"Open In Colab\"/></a>"
      ]
    },
    {
      "cell_type": "code",
      "execution_count": 1,
      "metadata": {
        "colab": {
          "base_uri": "https://localhost:8080/"
        },
        "id": "JPQf8CL29MPz",
        "outputId": "950413ed-1910-4861-a8fb-99e68d23af8e"
      },
      "outputs": [
        {
          "output_type": "stream",
          "name": "stdout",
          "text": [
            "Kode Barang =SKT12GG\n",
            "Nama Barang =Sikat Gigi\n",
            "Harga satuan Barang =Rp12000\n",
            "Jumlah barang yang dibeli = 15\n",
            "Total harga yang dibayar Rp. 180000\n"
          ]
        }
      ],
      "source": [
        "#Nomor 1\n",
        "total_hrg_brg = 0\n",
        "kd_brg = input(\"Kode Barang =\")\n",
        "nama_brg = input(\"Nama Barang =\")\n",
        "hrg_satuan = eval(input(\"Harga satuan Barang =Rp\"))\n",
        "jum_brg = eval(input(\"Jumlah barang yang dibeli = \"))\n",
        "hrg_beli = hrg_satuan*jum_brg\n",
        "total_hrg_brg = hrg_beli + total_hrg_brg\n",
        "print(\"Total harga yang dibayar Rp.\",total_hrg_brg)"
      ]
    },
    {
      "cell_type": "code",
      "source": [
        "#Nomor 2\n",
        "bil_awal = int(input('Masukan bilangan awal: '))\n",
        "bil_akhir = int(input('Masukan bilangan akhir: '))\n",
        " \n",
        "list_bil = [i for i in range(bil_awal, bil_akhir +1 )]\n",
        "print('Daftar bilangan: {}'.format(list_bil))\n",
        " \n",
        "bil_genap = []\n",
        "bil_ganjil = []\n",
        " \n",
        "for bil in list_bil:\n",
        "    if bil % 2 == 0:\n",
        "        bil_genap.append(bil)\n",
        "    else:\n",
        "        bil_ganjil.append(bil)\n",
        " \n",
        "print('genap: {}'.format(', '.join([str(bil) for bil in bil_genap])))\n",
        "print('ganjil: {}'.format(', '.join([str(bil) for bil in bil_ganjil])))"
      ],
      "metadata": {
        "colab": {
          "base_uri": "https://localhost:8080/"
        },
        "id": "cVu9DKsM9b2K",
        "outputId": "9c9410aa-e265-4a21-8aa4-0756f6afff3a"
      },
      "execution_count": 4,
      "outputs": [
        {
          "output_type": "stream",
          "name": "stdout",
          "text": [
            "Masukan bilangan awal: 8\n",
            "Masukan bilangan akhir: 55\n",
            "Daftar bilangan: [8, 9, 10, 11, 12, 13, 14, 15, 16, 17, 18, 19, 20, 21, 22, 23, 24, 25, 26, 27, 28, 29, 30, 31, 32, 33, 34, 35, 36, 37, 38, 39, 40, 41, 42, 43, 44, 45, 46, 47, 48, 49, 50, 51, 52, 53, 54, 55]\n",
            "genap: 8, 10, 12, 14, 16, 18, 20, 22, 24, 26, 28, 30, 32, 34, 36, 38, 40, 42, 44, 46, 48, 50, 52, 54\n",
            "ganjil: 9, 11, 13, 15, 17, 19, 21, 23, 25, 27, 29, 31, 33, 35, 37, 39, 41, 43, 45, 47, 49, 51, 53, 55\n"
          ]
        }
      ]
    },
    {
      "cell_type": "code",
      "source": [
        "#Nomor 3\n",
        "awal = int(input('Masukkan Angka Awal = '))\n",
        "akhir = int(input('Masukkan Angka Akhir = '))\n",
        "\n",
        "for i in range(awal, akhir+1, 3):\n",
        "    print (i, end=' ')"
      ],
      "metadata": {
        "colab": {
          "base_uri": "https://localhost:8080/"
        },
        "id": "fqFXMYPU9kcn",
        "outputId": "8d76ab1d-fa75-4641-8422-1d1b4d10059c"
      },
      "execution_count": 5,
      "outputs": [
        {
          "output_type": "stream",
          "name": "stdout",
          "text": [
            "Masukkan Angka Awal = 5\n",
            "Masukkan Angka Akhir = 41\n",
            "5 8 11 14 17 20 23 26 29 32 35 38 41 "
          ]
        }
      ]
    },
    {
      "cell_type": "code",
      "source": [
        "#Nomor 4\n",
        "n = int(input('Masukkan Bilangan = '))\n",
        "for i in range(1, n+1):\n",
        "    for j in range(1, i+1):\n",
        "        print(j, end=' ')\n",
        "    print()"
      ],
      "metadata": {
        "colab": {
          "base_uri": "https://localhost:8080/"
        },
        "id": "GHzPRVm095Vt",
        "outputId": "baef4b25-1c68-41fb-85cb-8a63fb0c52b4"
      },
      "execution_count": 6,
      "outputs": [
        {
          "output_type": "stream",
          "name": "stdout",
          "text": [
            "Masukkan Bilangan = 5\n",
            "1 \n",
            "1 2 \n",
            "1 2 3 \n",
            "1 2 3 4 \n",
            "1 2 3 4 5 \n"
          ]
        }
      ]
    },
    {
      "cell_type": "code",
      "source": [
        "#Nomor 5\n",
        "no = []\n",
        "nama = []\n",
        "tugas = []\n",
        "kuis = []\n",
        "uts = []\n",
        "uas = []\n",
        "akhir = []\n",
        "ulang = int(input('Jumlah Mahasiswa : '))\n",
        "for i in range(ulang):\n",
        "    print()\n",
        "    print('Data Ke - ', str(i+1))\n",
        "    no.append(str(i+1))\n",
        "    nama.append(input('Masukkan Nama Mahasiswa : '))\n",
        "    tugas.append(int(input('Nilai Tugas \\t\\t: ')))\n",
        "    kuis.append(int(input('Nilai Kuis \\t\\t: ')))\n",
        "    uts.append(int(input('Nilai UTS \\t\\t: ')))\n",
        "    uas.append(int(input('Nilai UAS \\t\\t: ')))\n",
        "    akhir.append(int(input('Nilai Akhir \\t\\t: ')))\n",
        "    print()"
      ],
      "metadata": {
        "colab": {
          "base_uri": "https://localhost:8080/"
        },
        "id": "vlPtscH79-6n",
        "outputId": "e0e28293-fb60-40fc-bc63-a69d184ddda7"
      },
      "execution_count": 9,
      "outputs": [
        {
          "output_type": "stream",
          "name": "stdout",
          "text": [
            "Jumlah Mahasiswa : 3\n",
            "\n",
            "Data Ke -  1\n",
            "Masukkan Nama Mahasiswa : Kemal\n",
            "Nilai Tugas \t\t: 85\n",
            "Nilai Kuis \t\t: 85\n",
            "Nilai UTS \t\t: 80\n",
            "Nilai UAS \t\t: 80\n",
            "Nilai Akhir \t\t: 83\n",
            "\n",
            "\n",
            "Data Ke -  2\n",
            "Masukkan Nama Mahasiswa : Arul\n",
            "Nilai Tugas \t\t: 88\n",
            "Nilai Kuis \t\t: 88\n",
            "Nilai UTS \t\t: 84\n",
            "Nilai UAS \t\t: 84\n",
            "Nilai Akhir \t\t: 85\n",
            "\n",
            "\n",
            "Data Ke -  3\n",
            "Masukkan Nama Mahasiswa : Zaky\n",
            "Nilai Tugas \t\t: 90\n",
            "Nilai Kuis \t\t: 90\n",
            "Nilai UTS \t\t: 88\n",
            "Nilai UAS \t\t: 88\n",
            "Nilai Akhir \t\t: 89\n",
            "\n"
          ]
        }
      ]
    },
    {
      "cell_type": "code",
      "source": [
        "#isi tabel\n",
        "print()\n",
        "print('-'*120)\n",
        "print('\\t No \\t Nama Mhs\\t N.Tugas \\t N.Kuis \\t N.UTS \\t\\t N.UAS \\t\\t Nilai Akhir')\n",
        "print('-'*120)\n",
        "for i in range(ulang):\n",
        "  print('\\t', no[i], '\\t', nama[i], '\\t\\t', tugas[i], '\\t\\t', kuis[i], '\\t\\t', uts[i], '\\t\\t', uas[i], '\\t\\t', akhir[i])"
      ],
      "metadata": {
        "colab": {
          "base_uri": "https://localhost:8080/"
        },
        "id": "vHiQiBU2Cor8",
        "outputId": "b00589f4-7778-417b-a1ab-c079385752ba"
      },
      "execution_count": 19,
      "outputs": [
        {
          "output_type": "stream",
          "name": "stdout",
          "text": [
            "\n",
            "------------------------------------------------------------------------------------------------------------------------\n",
            "\t No \t Nama Mhs\t N.Tugas \t N.Kuis \t N.UTS \t\t N.UAS \t\t Nilai Akhir\n",
            "------------------------------------------------------------------------------------------------------------------------\n",
            "\t 1 \t Kemal \t\t 85 \t\t 85 \t\t 80 \t\t 80 \t\t 83\n",
            "\t 2 \t Arul \t\t 88 \t\t 88 \t\t 84 \t\t 84 \t\t 85\n",
            "\t 3 \t Zaky \t\t 90 \t\t 90 \t\t 88 \t\t 88 \t\t 89\n"
          ]
        }
      ]
    },
    {
      "cell_type": "code",
      "source": [
        "#Penjumlahan Matriks\n",
        "mat1 = [\n",
        "    [2, 7],\n",
        "    [4, 6],\n",
        "]\n",
        "\n",
        "mat2 = [\n",
        "    [6, 9],\n",
        "    [5, 2],\n",
        "]\n",
        "\n",
        "for x in range(0, len(mat1)):\n",
        "    for y in range(0, len(mat1[0])):\n",
        "        print (mat1[x][y] + mat2[x][y], end=' '),\n",
        "    print"
      ],
      "metadata": {
        "colab": {
          "base_uri": "https://localhost:8080/"
        },
        "id": "VGJw-pUdK6Cs",
        "outputId": "bbd18498-288e-4141-fde6-d6d3dbf3092f"
      },
      "execution_count": 21,
      "outputs": [
        {
          "output_type": "stream",
          "name": "stdout",
          "text": [
            "8 16 9 8 "
          ]
        }
      ]
    }
  ]
}